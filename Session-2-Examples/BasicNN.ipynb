{
 "cells": [
  {
   "cell_type": "code",
   "execution_count": 1,
   "id": "81d2a8e3-7a51-4b62-bea0-d2d83aeaa9a3",
   "metadata": {},
   "outputs": [],
   "source": [
    "import tensorflow as tf\n",
    "import matplotlib.pyplot as plt"
   ]
  },
  {
   "cell_type": "markdown",
   "id": "c378e2fe-4511-4152-bafa-46441e79dd96",
   "metadata": {},
   "source": [
    "Now we're going to see how the \"black-box\" stuff in tensorflow works. This is more designed around data science type aplications, so it's limited for when we employ PINNs approaches. Nonetheless, we can see how some of the functionality works in a simple example. We will focus on a simple interpolation problem with synthetic data. First, we'll make it using the random number generation package. We take random data points and our output will be x^3 + normal noise. "
   ]
  },
  {
   "cell_type": "code",
   "execution_count": 2,
   "id": "d4466cf1-e749-4a76-90e1-8f760f87917f",
   "metadata": {},
   "outputs": [],
   "source": [
    "data_length = 500\n",
    "x_data = tf.random.uniform([data_length,1],minval=-1,maxval=1)\n",
    "y_data = x_data**3 + tf.random.normal([data_length,1],mean=0,stddev=0.05)"
   ]
  },
  {
   "cell_type": "markdown",
   "id": "6258b259-205c-40e9-8d47-4dc4ce3e097d",
   "metadata": {},
   "source": [
    "Making a fully connected, feed forward neural network is very simple. We define the inputs, the intermediate layers, and the model as follows. There are a wide range of black-box layers available in the tensorflow documentation. We'll keep it simple with dense, fully-connected layers. "
   ]
  },
  {
   "cell_type": "code",
   "execution_count": 3,
   "id": "2970cea9-e636-402d-9d11-4f6622be237c",
   "metadata": {},
   "outputs": [
    {
     "data": {
      "text/html": [
       "<pre style=\"white-space:pre;overflow-x:auto;line-height:normal;font-family:Menlo,'DejaVu Sans Mono',consolas,'Courier New',monospace\"><span style=\"font-weight: bold\">Model: \"functional\"</span>\n",
       "</pre>\n"
      ],
      "text/plain": [
       "\u001b[1mModel: \"functional\"\u001b[0m\n"
      ]
     },
     "metadata": {},
     "output_type": "display_data"
    },
    {
     "data": {
      "text/html": [
       "<pre style=\"white-space:pre;overflow-x:auto;line-height:normal;font-family:Menlo,'DejaVu Sans Mono',consolas,'Courier New',monospace\">┏━━━━━━━━━━━━━━━━━━━━━━━━━━━━━━━━━━━━━━┳━━━━━━━━━━━━━━━━━━━━━━━━━━━━━┳━━━━━━━━━━━━━━━━━┓\n",
       "┃<span style=\"font-weight: bold\"> Layer (type)                         </span>┃<span style=\"font-weight: bold\"> Output Shape                </span>┃<span style=\"font-weight: bold\">         Param # </span>┃\n",
       "┡━━━━━━━━━━━━━━━━━━━━━━━━━━━━━━━━━━━━━━╇━━━━━━━━━━━━━━━━━━━━━━━━━━━━━╇━━━━━━━━━━━━━━━━━┩\n",
       "│ input_layer (<span style=\"color: #0087ff; text-decoration-color: #0087ff\">InputLayer</span>)             │ (<span style=\"color: #00d7ff; text-decoration-color: #00d7ff\">None</span>, <span style=\"color: #00af00; text-decoration-color: #00af00\">1</span>)                   │               <span style=\"color: #00af00; text-decoration-color: #00af00\">0</span> │\n",
       "├──────────────────────────────────────┼─────────────────────────────┼─────────────────┤\n",
       "│ dense (<span style=\"color: #0087ff; text-decoration-color: #0087ff\">Dense</span>)                        │ (<span style=\"color: #00d7ff; text-decoration-color: #00d7ff\">None</span>, <span style=\"color: #00af00; text-decoration-color: #00af00\">20</span>)                  │              <span style=\"color: #00af00; text-decoration-color: #00af00\">40</span> │\n",
       "├──────────────────────────────────────┼─────────────────────────────┼─────────────────┤\n",
       "│ dense_1 (<span style=\"color: #0087ff; text-decoration-color: #0087ff\">Dense</span>)                      │ (<span style=\"color: #00d7ff; text-decoration-color: #00d7ff\">None</span>, <span style=\"color: #00af00; text-decoration-color: #00af00\">20</span>)                  │             <span style=\"color: #00af00; text-decoration-color: #00af00\">420</span> │\n",
       "├──────────────────────────────────────┼─────────────────────────────┼─────────────────┤\n",
       "│ dense_2 (<span style=\"color: #0087ff; text-decoration-color: #0087ff\">Dense</span>)                      │ (<span style=\"color: #00d7ff; text-decoration-color: #00d7ff\">None</span>, <span style=\"color: #00af00; text-decoration-color: #00af00\">1</span>)                   │              <span style=\"color: #00af00; text-decoration-color: #00af00\">21</span> │\n",
       "└──────────────────────────────────────┴─────────────────────────────┴─────────────────┘\n",
       "</pre>\n"
      ],
      "text/plain": [
       "┏━━━━━━━━━━━━━━━━━━━━━━━━━━━━━━━━━━━━━━┳━━━━━━━━━━━━━━━━━━━━━━━━━━━━━┳━━━━━━━━━━━━━━━━━┓\n",
       "┃\u001b[1m \u001b[0m\u001b[1mLayer (type)                        \u001b[0m\u001b[1m \u001b[0m┃\u001b[1m \u001b[0m\u001b[1mOutput Shape               \u001b[0m\u001b[1m \u001b[0m┃\u001b[1m \u001b[0m\u001b[1m        Param #\u001b[0m\u001b[1m \u001b[0m┃\n",
       "┡━━━━━━━━━━━━━━━━━━━━━━━━━━━━━━━━━━━━━━╇━━━━━━━━━━━━━━━━━━━━━━━━━━━━━╇━━━━━━━━━━━━━━━━━┩\n",
       "│ input_layer (\u001b[38;5;33mInputLayer\u001b[0m)             │ (\u001b[38;5;45mNone\u001b[0m, \u001b[38;5;34m1\u001b[0m)                   │               \u001b[38;5;34m0\u001b[0m │\n",
       "├──────────────────────────────────────┼─────────────────────────────┼─────────────────┤\n",
       "│ dense (\u001b[38;5;33mDense\u001b[0m)                        │ (\u001b[38;5;45mNone\u001b[0m, \u001b[38;5;34m20\u001b[0m)                  │              \u001b[38;5;34m40\u001b[0m │\n",
       "├──────────────────────────────────────┼─────────────────────────────┼─────────────────┤\n",
       "│ dense_1 (\u001b[38;5;33mDense\u001b[0m)                      │ (\u001b[38;5;45mNone\u001b[0m, \u001b[38;5;34m20\u001b[0m)                  │             \u001b[38;5;34m420\u001b[0m │\n",
       "├──────────────────────────────────────┼─────────────────────────────┼─────────────────┤\n",
       "│ dense_2 (\u001b[38;5;33mDense\u001b[0m)                      │ (\u001b[38;5;45mNone\u001b[0m, \u001b[38;5;34m1\u001b[0m)                   │              \u001b[38;5;34m21\u001b[0m │\n",
       "└──────────────────────────────────────┴─────────────────────────────┴─────────────────┘\n"
      ]
     },
     "metadata": {},
     "output_type": "display_data"
    },
    {
     "data": {
      "text/html": [
       "<pre style=\"white-space:pre;overflow-x:auto;line-height:normal;font-family:Menlo,'DejaVu Sans Mono',consolas,'Courier New',monospace\"><span style=\"font-weight: bold\"> Total params: </span><span style=\"color: #00af00; text-decoration-color: #00af00\">481</span> (1.88 KB)\n",
       "</pre>\n"
      ],
      "text/plain": [
       "\u001b[1m Total params: \u001b[0m\u001b[38;5;34m481\u001b[0m (1.88 KB)\n"
      ]
     },
     "metadata": {},
     "output_type": "display_data"
    },
    {
     "data": {
      "text/html": [
       "<pre style=\"white-space:pre;overflow-x:auto;line-height:normal;font-family:Menlo,'DejaVu Sans Mono',consolas,'Courier New',monospace\"><span style=\"font-weight: bold\"> Trainable params: </span><span style=\"color: #00af00; text-decoration-color: #00af00\">481</span> (1.88 KB)\n",
       "</pre>\n"
      ],
      "text/plain": [
       "\u001b[1m Trainable params: \u001b[0m\u001b[38;5;34m481\u001b[0m (1.88 KB)\n"
      ]
     },
     "metadata": {},
     "output_type": "display_data"
    },
    {
     "data": {
      "text/html": [
       "<pre style=\"white-space:pre;overflow-x:auto;line-height:normal;font-family:Menlo,'DejaVu Sans Mono',consolas,'Courier New',monospace\"><span style=\"font-weight: bold\"> Non-trainable params: </span><span style=\"color: #00af00; text-decoration-color: #00af00\">0</span> (0.00 B)\n",
       "</pre>\n"
      ],
      "text/plain": [
       "\u001b[1m Non-trainable params: \u001b[0m\u001b[38;5;34m0\u001b[0m (0.00 B)\n"
      ]
     },
     "metadata": {},
     "output_type": "display_data"
    }
   ],
   "source": [
    "inputs = tf.keras.Input(shape=(1,))\n",
    "x = tf.keras.layers.Dense(20, activation='relu')(inputs)\n",
    "x = tf.keras.layers.Dense(20, activation='relu')(x)\n",
    "outputs = tf.keras.layers.Dense(1)(x)\n",
    "\n",
    "model = tf.keras.Model(inputs=inputs, outputs=outputs)\n",
    "model.summary()"
   ]
  },
  {
   "cell_type": "markdown",
   "id": "4df884ef-4384-4ca9-b73d-73fefa45aabb",
   "metadata": {},
   "source": [
    "Once the model has been defined, we can use it like any other function, e.g., to see its output on the data"
   ]
  },
  {
   "cell_type": "code",
   "execution_count": 4,
   "id": "0920d908-16aa-4eba-a41d-a362c8dff423",
   "metadata": {},
   "outputs": [
    {
     "data": {
      "text/plain": [
       "<tf.Tensor: shape=(10, 1), dtype=float32, numpy=\n",
       "array([[-0.06622422],\n",
       "       [ 0.00251949],\n",
       "       [-0.01196396],\n",
       "       [ 0.04880974],\n",
       "       [ 0.00196815],\n",
       "       [ 0.02381438],\n",
       "       [ 0.01703472],\n",
       "       [-0.22817266],\n",
       "       [-0.18696855],\n",
       "       [ 0.05568435]], dtype=float32)>"
      ]
     },
     "execution_count": 4,
     "metadata": {},
     "output_type": "execute_result"
    }
   ],
   "source": [
    "model(x_data[0:10])"
   ]
  },
  {
   "cell_type": "markdown",
   "id": "42477d5d-56b3-4bd5-b8c0-5e4bcdfc8e8e",
   "metadata": {},
   "source": [
    "To train the model, we need to specify the optimiser and loss, then compile. \"mse\" is a default (mean-squared error). tf.keras.optimizers has a large number of black-box optimisers"
   ]
  },
  {
   "cell_type": "code",
   "execution_count": 5,
   "id": "fb3f91b2-7150-4b1f-9e07-8ac58daa48fb",
   "metadata": {},
   "outputs": [],
   "source": [
    "loss = \"mse\"\n",
    "opt = tf.keras.optimizers.Adam(learning_rate=10**-2)\n",
    "model.compile(optimizer = opt, loss = loss)"
   ]
  },
  {
   "cell_type": "markdown",
   "id": "44cce2b1-e804-456d-9e4e-c8e9cc4c676d",
   "metadata": {},
   "source": [
    "Training is then straightforward, we use model.fit, specifying the training and validation data, number of iterations, etc. "
   ]
  },
  {
   "cell_type": "code",
   "execution_count": 12,
   "id": "7326bbcb-c2e1-44f4-8341-4e4eb7216977",
   "metadata": {},
   "outputs": [
    {
     "name": "stdout",
     "output_type": "stream",
     "text": [
      "Epoch 1/10\n",
      "\u001b[1m45/45\u001b[0m \u001b[32m━━━━━━━━━━━━━━━━━━━━\u001b[0m\u001b[37m\u001b[0m \u001b[1m1s\u001b[0m 11ms/step - loss: 0.0041 - val_loss: 0.0028\n",
      "Epoch 2/10\n",
      "\u001b[1m45/45\u001b[0m \u001b[32m━━━━━━━━━━━━━━━━━━━━\u001b[0m\u001b[37m\u001b[0m \u001b[1m0s\u001b[0m 8ms/step - loss: 0.0031 - val_loss: 0.0029\n",
      "Epoch 3/10\n",
      "\u001b[1m45/45\u001b[0m \u001b[32m━━━━━━━━━━━━━━━━━━━━\u001b[0m\u001b[37m\u001b[0m \u001b[1m0s\u001b[0m 8ms/step - loss: 0.0032 - val_loss: 0.0034\n",
      "Epoch 4/10\n",
      "\u001b[1m45/45\u001b[0m \u001b[32m━━━━━━━━━━━━━━━━━━━━\u001b[0m\u001b[37m\u001b[0m \u001b[1m0s\u001b[0m 9ms/step - loss: 0.0030 - val_loss: 0.0039\n",
      "Epoch 5/10\n",
      "\u001b[1m45/45\u001b[0m \u001b[32m━━━━━━━━━━━━━━━━━━━━\u001b[0m\u001b[37m\u001b[0m \u001b[1m0s\u001b[0m 8ms/step - loss: 0.0042 - val_loss: 0.0031\n",
      "Epoch 6/10\n",
      "\u001b[1m45/45\u001b[0m \u001b[32m━━━━━━━━━━━━━━━━━━━━\u001b[0m\u001b[37m\u001b[0m \u001b[1m0s\u001b[0m 9ms/step - loss: 0.0038 - val_loss: 0.0037\n",
      "Epoch 7/10\n",
      "\u001b[1m45/45\u001b[0m \u001b[32m━━━━━━━━━━━━━━━━━━━━\u001b[0m\u001b[37m\u001b[0m \u001b[1m0s\u001b[0m 8ms/step - loss: 0.0034 - val_loss: 0.0052\n",
      "Epoch 8/10\n",
      "\u001b[1m45/45\u001b[0m \u001b[32m━━━━━━━━━━━━━━━━━━━━\u001b[0m\u001b[37m\u001b[0m \u001b[1m0s\u001b[0m 8ms/step - loss: 0.0044 - val_loss: 0.0049\n",
      "Epoch 9/10\n",
      "\u001b[1m45/45\u001b[0m \u001b[32m━━━━━━━━━━━━━━━━━━━━\u001b[0m\u001b[37m\u001b[0m \u001b[1m0s\u001b[0m 8ms/step - loss: 0.0051 - val_loss: 0.0029\n",
      "Epoch 10/10\n",
      "\u001b[1m45/45\u001b[0m \u001b[32m━━━━━━━━━━━━━━━━━━━━\u001b[0m\u001b[37m\u001b[0m \u001b[1m0s\u001b[0m 8ms/step - loss: 0.0037 - val_loss: 0.0032\n"
     ]
    }
   ],
   "source": [
    "history = model.fit(x=x_data,\n",
    "                    y=y_data,\n",
    "                    validation_split = 0.1,\n",
    "                    epochs = 10,\n",
    "                    batch_size=10)"
   ]
  },
  {
   "cell_type": "markdown",
   "id": "bd68275a",
   "metadata": {},
   "source": [
    "We can plot the result to see what it looks like "
   ]
  },
  {
   "cell_type": "code",
   "execution_count": 7,
   "id": "643665e8",
   "metadata": {},
   "outputs": [
    {
     "data": {
      "text/plain": [
       "<function matplotlib.pyplot.show(close=None, block=None)>"
      ]
     },
     "execution_count": 7,
     "metadata": {},
     "output_type": "execute_result"
    },
    {
     "data": {
      "image/png": "[encoded data removed]",
      "text/plain": [
       "<Figure size 640x480 with 1 Axes>"
      ]
     },
     "metadata": {},
     "output_type": "display_data"
    }
   ],
   "source": [
    "plt.scatter(x_data,y_data)\n",
    "\n",
    "x_plot = tf.constant([[i/100] for i in range(-100,101)])\n",
    "\n",
    "plt.plot(x_plot,model(x_plot),\"k\")\n",
    "plt.show"
   ]
  },
  {
   "cell_type": "markdown",
   "id": "c97b350c",
   "metadata": {},
   "source": [
    "We used history = model.fit(XXX). \"history\" now contains informatiton about the training, most importantly, the training and validation loss at each iteration. history.history is a dictionary, and \"loss\", \"val_loss\" contain these lists. "
   ]
  },
  {
   "cell_type": "code",
   "execution_count": 11,
   "id": "a8fcfd6c",
   "metadata": {},
   "outputs": [
    {
     "data": {
      "image/png": "[encoded data removed]",
      "text/plain": [
       "<Figure size 640x480 with 1 Axes>"
      ]
     },
     "metadata": {},
     "output_type": "display_data"
    }
   ],
   "source": [
    "loss_list = history.history[\"loss\"]\n",
    "val_list = history.history[\"val_loss\"]\n",
    "\n",
    "plt.plot(loss_list,label=\"Training\")\n",
    "plt.plot(val_list,label=\"Validation\")\n",
    "plt.xscale(\"log\")\n",
    "plt.yscale(\"log\")\n",
    "plt.xlabel(\"Iteration\")\n",
    "plt.ylabel(\"Loss\")\n",
    "plt.legend()\n",
    "plt.show()"
   ]
  },
  {
   "cell_type": "markdown",
   "id": "c34bd3a4",
   "metadata": {},
   "source": [
    "One important feature is \"callbacks\". There are many black-box ones that can be used, and they allow further functionality beyond just training. I'll use a single one, just to show how they work. EarlyStopping ends training if a given metric doesn't improve, and can restore the best obtained weights in this case. "
   ]
  },
  {
   "cell_type": "code",
   "execution_count": 13,
   "id": "b486819a",
   "metadata": {},
   "outputs": [],
   "source": [
    "callbacks = [tf.keras.callbacks.EarlyStopping(\n",
    "    monitor='val_loss',\n",
    "    restore_best_weights=True\n",
    ")]"
   ]
  },
  {
   "cell_type": "markdown",
   "id": "c52f0446",
   "metadata": {},
   "source": [
    "We train again (Note: We start from the previously obtained model, which is already \"good\"). "
   ]
  },
  {
   "cell_type": "code",
   "execution_count": 14,
   "id": "f7b34310",
   "metadata": {},
   "outputs": [
    {
     "name": "stdout",
     "output_type": "stream",
     "text": [
      "Epoch 1/10\n",
      "\u001b[1m45/45\u001b[0m \u001b[32m━━━━━━━━━━━━━━━━━━━━\u001b[0m\u001b[37m\u001b[0m \u001b[1m1s\u001b[0m 10ms/step - loss: 0.0031 - val_loss: 0.0032\n",
      "Epoch 2/10\n",
      "\u001b[1m45/45\u001b[0m \u001b[32m━━━━━━━━━━━━━━━━━━━━\u001b[0m\u001b[37m\u001b[0m \u001b[1m0s\u001b[0m 9ms/step - loss: 0.0038 - val_loss: 0.0039\n"
     ]
    }
   ],
   "source": [
    "history = model.fit(x=x_data,\n",
    "                    y=y_data,\n",
    "                    validation_split = 0.1,\n",
    "                    epochs = 10,\n",
    "                    batch_size=10,\n",
    "                   callbacks = callbacks)"
   ]
  },
  {
   "cell_type": "markdown",
   "id": "48f8631e",
   "metadata": {},
   "source": [
    "Tensorflow has a huge amount of layers, losses, callbacks and so forth. You can also define your own custom layers, losses and callbacks. A lot of this functionality is difficult to adapt to PINNs-type frameworks, so we will have to open the black box to get it to work how we want"
   ]
  }
 ],
 "metadata": {
  "kernelspec": {
   "display_name": "Python 3 (ipykernel)",
   "language": "python",
   "name": "python3"
  },
  "language_info": {
   "codemirror_mode": {
    "name": "ipython",
    "version": 3
   },
   "file_extension": ".py",
   "mimetype": "text/x-python",
   "name": "python",
   "nbconvert_exporter": "python",
   "pygments_lexer": "ipython3",
   "version": "3.9.13"
  }
 },
 "nbformat": 4,
 "nbformat_minor": 5
}
